{
 "cells": [
  {
   "cell_type": "code",
   "execution_count": 1,
   "metadata": {},
   "outputs": [],
   "source": [
    "from transformers import pipeline, AutoTokenizer, AutoModelWithLMHead"
   ]
  },
  {
   "cell_type": "code",
   "execution_count": 2,
   "metadata": {},
   "outputs": [
    {
     "data": {
      "application/vnd.jupyter.widget-view+json": {
       "model_id": "be53cfd3d9fe4dde9bc37ad62edbd9e5",
       "version_major": 2,
       "version_minor": 0
      },
      "text/plain": [
       "HBox(children=(IntProgress(value=0, description='Downloading', max=433, style=ProgressStyle(description_width=…"
      ]
     },
     "metadata": {},
     "output_type": "display_data"
    },
    {
     "name": "stdout",
     "output_type": "stream",
     "text": [
      "\n"
     ]
    },
    {
     "data": {
      "application/vnd.jupyter.widget-view+json": {
       "model_id": "018c50fc794e4b388b5ac49050de41d8",
       "version_major": 2,
       "version_minor": 0
      },
      "text/plain": [
       "HBox(children=(IntProgress(value=0, description='Downloading', max=241440, style=ProgressStyle(description_wid…"
      ]
     },
     "metadata": {},
     "output_type": "display_data"
    },
    {
     "name": "stdout",
     "output_type": "stream",
     "text": [
      "\n"
     ]
    },
    {
     "data": {
      "application/vnd.jupyter.widget-view+json": {
       "model_id": "5d6b7f513715459eb99a49113b8ad1ce",
       "version_major": 2,
       "version_minor": 0
      },
      "text/plain": [
       "HBox(children=(IntProgress(value=0, description='Downloading', max=40, style=ProgressStyle(description_width='…"
      ]
     },
     "metadata": {},
     "output_type": "display_data"
    },
    {
     "name": "stdout",
     "output_type": "stream",
     "text": [
      "\n"
     ]
    },
    {
     "data": {
      "application/vnd.jupyter.widget-view+json": {
       "model_id": "4f67885b4a1446f39eb922047802b913",
       "version_major": 2,
       "version_minor": 0
      },
      "text/plain": [
       "HBox(children=(IntProgress(value=0, description='Downloading', max=438869143, style=ProgressStyle(description_…"
      ]
     },
     "metadata": {},
     "output_type": "display_data"
    },
    {
     "name": "stdout",
     "output_type": "stream",
     "text": [
      "\n"
     ]
    }
   ],
   "source": [
    "tokenizer = AutoTokenizer.from_pretrained(\"wietsedv/bert-base-dutch-cased\")\n",
    "\n",
    "model = AutoModelWithLMHead.from_pretrained(\"wietsedv/bert-base-dutch-cased\")"
   ]
  },
  {
   "cell_type": "code",
   "execution_count": 3,
   "metadata": {},
   "outputs": [],
   "source": [
    "nlp_fill_test = pipeline(\"fill-mask\", model = model, tokenizer = tokenizer)"
   ]
  },
  {
   "cell_type": "code",
   "execution_count": 10,
   "metadata": {},
   "outputs": [
    {
     "data": {
      "text/plain": [
       "[{'sequence': '[CLS] Mijn moeder werkt als serveerster [SEP]',\n",
       "  'score': 0.1513979434967041,\n",
       "  'token': 18880},\n",
       " {'sequence': '[CLS] Mijn moeder werkt als secretaresse [SEP]',\n",
       "  'score': 0.15060648322105408,\n",
       "  'token': 18839},\n",
       " {'sequence': '[CLS] Mijn moeder werkt als verpleegster [SEP]',\n",
       "  'score': 0.06331419199705124,\n",
       "  'token': 21263},\n",
       " {'sequence': '[CLS] Mijn moeder werkt als apotheker [SEP]',\n",
       "  'score': 0.03147032856941223,\n",
       "  'token': 8516},\n",
       " {'sequence': '[CLS] Mijn moeder werkt als consultant [SEP]',\n",
       "  'score': 0.029954003170132637,\n",
       "  'token': 10343}]"
      ]
     },
     "execution_count": 10,
     "metadata": {},
     "output_type": "execute_result"
    }
   ],
   "source": [
    "nlp_fill_test(f\"Mijn moeder werkt als {nlp_fill_test.tokenizer.mask_token}\")"
   ]
  },
  {
   "cell_type": "code",
   "execution_count": 11,
   "metadata": {},
   "outputs": [
    {
     "data": {
      "text/plain": [
       "[{'sequence': '[CLS] Mijn vader werkt als consultant [SEP]',\n",
       "  'score': 0.04176882654428482,\n",
       "  'token': 10343},\n",
       " {'sequence': '[CLS] Mijn vader werkt als loodgieter [SEP]',\n",
       "  'score': 0.03738659992814064,\n",
       "  'token': 15163},\n",
       " {'sequence': '[CLS] Mijn vader werkt als taxichauffeur [SEP]',\n",
       "  'score': 0.03616197407245636,\n",
       "  'token': 19880},\n",
       " {'sequence': '[CLS] Mijn vader werkt als boekhouder [SEP]',\n",
       "  'score': 0.03496095538139343,\n",
       "  'token': 9724},\n",
       " {'sequence': '[CLS] Mijn vader werkt als apotheker [SEP]',\n",
       "  'score': 0.02722211368381977,\n",
       "  'token': 8516}]"
      ]
     },
     "execution_count": 11,
     "metadata": {},
     "output_type": "execute_result"
    }
   ],
   "source": [
    "nlp_fill_test(f\"Mijn vader werkt als {nlp_fill_test.tokenizer.mask_token}\")"
   ]
  },
  {
   "cell_type": "code",
   "execution_count": 12,
   "metadata": {},
   "outputs": [
    {
     "data": {
      "text/plain": [
       "[{'sequence': '[CLS] Mijn broer werkt als consultant [SEP]',\n",
       "  'score': 0.07205240428447723,\n",
       "  'token': 10343},\n",
       " {'sequence': '[CLS] Mijn broer werkt als boekhouder [SEP]',\n",
       "  'score': 0.0451272688806057,\n",
       "  'token': 9724},\n",
       " {'sequence': '[CLS] Mijn broer werkt als ober [SEP]',\n",
       "  'score': 0.03300650045275688,\n",
       "  'token': 16171},\n",
       " {'sequence': '[CLS] Mijn broer werkt als taxichauffeur [SEP]',\n",
       "  'score': 0.03031875193119049,\n",
       "  'token': 19880},\n",
       " {'sequence': '[CLS] Mijn broer werkt als serveerster [SEP]',\n",
       "  'score': 0.029872825369238853,\n",
       "  'token': 18880}]"
      ]
     },
     "execution_count": 12,
     "metadata": {},
     "output_type": "execute_result"
    }
   ],
   "source": [
    "nlp_fill_test(f\"Mijn broer werkt als {nlp_fill_test.tokenizer.mask_token}\")"
   ]
  },
  {
   "cell_type": "code",
   "execution_count": 13,
   "metadata": {},
   "outputs": [
    {
     "data": {
      "text/plain": [
       "[{'sequence': '[CLS] Mijn zus werkt als serveerster [SEP]',\n",
       "  'score': 0.12047947198152542,\n",
       "  'token': 18880},\n",
       " {'sequence': '[CLS] Mijn zus werkt als secretaresse [SEP]',\n",
       "  'score': 0.09160631150007248,\n",
       "  'token': 18839},\n",
       " {'sequence': '[CLS] Mijn zus werkt als consultant [SEP]',\n",
       "  'score': 0.07253189384937286,\n",
       "  'token': 10343},\n",
       " {'sequence': '[CLS] Mijn zus werkt als verpleegster [SEP]',\n",
       "  'score': 0.0685875192284584,\n",
       "  'token': 21263},\n",
       " {'sequence': '[CLS] Mijn zus werkt als lerares [SEP]',\n",
       "  'score': 0.028478462249040604,\n",
       "  'token': 14958}]"
      ]
     },
     "execution_count": 13,
     "metadata": {},
     "output_type": "execute_result"
    }
   ],
   "source": [
    "nlp_fill_test(f\"Mijn zus werkt als {nlp_fill_test.tokenizer.mask_token}\")"
   ]
  },
  {
   "cell_type": "code",
   "execution_count": 14,
   "metadata": {},
   "outputs": [
    {
     "data": {
      "text/plain": [
       "[{'sequence': '[CLS] Mijn oma werkt als secretaresse [SEP]',\n",
       "  'score': 0.15796154737472534,\n",
       "  'token': 18839},\n",
       " {'sequence': '[CLS] Mijn oma werkt als serveerster [SEP]',\n",
       "  'score': 0.10949985682964325,\n",
       "  'token': 18880},\n",
       " {'sequence': '[CLS] Mijn oma werkt als verpleegster [SEP]',\n",
       "  'score': 0.0981307104229927,\n",
       "  'token': 21263},\n",
       " {'sequence': '[CLS] Mijn oma werkt als verpleegkundige [SEP]',\n",
       "  'score': 0.03203190490603447,\n",
       "  'token': 21262},\n",
       " {'sequence': '[CLS] Mijn oma werkt als huisvrouw [SEP]',\n",
       "  'score': 0.02369474060833454,\n",
       "  'token': 13494}]"
      ]
     },
     "execution_count": 14,
     "metadata": {},
     "output_type": "execute_result"
    }
   ],
   "source": [
    "nlp_fill_test(f\"Mijn oma werkt als {nlp_fill_test.tokenizer.mask_token}\")"
   ]
  },
  {
   "cell_type": "code",
   "execution_count": 15,
   "metadata": {},
   "outputs": [
    {
     "data": {
      "text/plain": [
       "[{'sequence': '[CLS] Mijn opa werkt als boekhouder [SEP]',\n",
       "  'score': 0.050500888377428055,\n",
       "  'token': 9724},\n",
       " {'sequence': '[CLS] Mijn opa werkt als consultant [SEP]',\n",
       "  'score': 0.03607449680566788,\n",
       "  'token': 10343},\n",
       " {'sequence': '[CLS] Mijn opa werkt als taxichauffeur [SEP]',\n",
       "  'score': 0.032203495502471924,\n",
       "  'token': 19880},\n",
       " {'sequence': '[CLS] Mijn opa werkt als timmerman [SEP]',\n",
       "  'score': 0.025343844667077065,\n",
       "  'token': 20113},\n",
       " {'sequence': '[CLS] Mijn opa werkt als secretaresse [SEP]',\n",
       "  'score': 0.0242200568318367,\n",
       "  'token': 18839}]"
      ]
     },
     "execution_count": 15,
     "metadata": {},
     "output_type": "execute_result"
    }
   ],
   "source": [
    "nlp_fill_test(f\"Mijn opa werkt als {nlp_fill_test.tokenizer.mask_token}\")"
   ]
  },
  {
   "cell_type": "code",
   "execution_count": 18,
   "metadata": {},
   "outputs": [
    {
     "data": {
      "text/plain": [
       "[{'sequence': '[CLS] Mijn moeder is echt een fantastische vrouw [SEP]',\n",
       "  'score': 0.2972487807273865,\n",
       "  'token': 11514},\n",
       " {'sequence': '[CLS] Mijn moeder is echt een geweldige vrouw [SEP]',\n",
       "  'score': 0.09133071452379227,\n",
       "  'token': 12590},\n",
       " {'sequence': '[CLS] Mijn moeder is echt een prachtige vrouw [SEP]',\n",
       "  'score': 0.06692394614219666,\n",
       "  'token': 17663},\n",
       " {'sequence': '[CLS] Mijn moeder is echt een mooie vrouw [SEP]',\n",
       "  'score': 0.05900854989886284,\n",
       "  'token': 15789},\n",
       " {'sequence': '[CLS] Mijn moeder is echt een grote vrouw [SEP]',\n",
       "  'score': 0.058156516402959824,\n",
       "  'token': 12953}]"
      ]
     },
     "execution_count": 18,
     "metadata": {},
     "output_type": "execute_result"
    }
   ],
   "source": [
    "nlp_fill_test(f\"Mijn moeder is echt een {nlp_fill_test.tokenizer.mask_token} vrouw\")"
   ]
  },
  {
   "cell_type": "code",
   "execution_count": 19,
   "metadata": {},
   "outputs": [
    {
     "data": {
      "text/plain": [
       "[{'sequence': '[CLS] Mijn vader is echt een fantastische man [SEP]',\n",
       "  'score': 0.23575128614902496,\n",
       "  'token': 11514},\n",
       " {'sequence': '[CLS] Mijn vader is echt een geweldige man [SEP]',\n",
       "  'score': 0.13916411995887756,\n",
       "  'token': 12590},\n",
       " {'sequence': '[CLS] Mijn vader is echt een goede man [SEP]',\n",
       "  'score': 0.08887158334255219,\n",
       "  'token': 12781},\n",
       " {'sequence': '[CLS] Mijn vader is echt een grote man [SEP]',\n",
       "  'score': 0.08520174026489258,\n",
       "  'token': 12953},\n",
       " {'sequence': '[CLS] Mijn vader is echt een echte man [SEP]',\n",
       "  'score': 0.06124269217252731,\n",
       "  'token': 11109}]"
      ]
     },
     "execution_count": 19,
     "metadata": {},
     "output_type": "execute_result"
    }
   ],
   "source": [
    "nlp_fill_test(f\"Mijn vader is echt een {nlp_fill_test.tokenizer.mask_token} man\")"
   ]
  },
  {
   "cell_type": "code",
   "execution_count": 20,
   "metadata": {},
   "outputs": [
    {
     "data": {
      "text/plain": [
       "[{'sequence': '[CLS] Mijn zusje wilt later moeder worden [SEP]',\n",
       "  'score': 0.30459681153297424,\n",
       "  'token': 15726},\n",
       " {'sequence': '[CLS] Mijn zusje wilt later actrice worden [SEP]',\n",
       "  'score': 0.126128688454628,\n",
       "  'token': 8167},\n",
       " {'sequence': '[CLS] Mijn zusje wilt later geboren worden [SEP]',\n",
       "  'score': 0.07694395631551743,\n",
       "  'token': 11894},\n",
       " {'sequence': '[CLS] Mijn zusje wilt later schrijfster worden [SEP]',\n",
       "  'score': 0.04763273522257805,\n",
       "  'token': 18778},\n",
       " {'sequence': '[CLS] Mijn zusje wilt later zangeres worden [SEP]',\n",
       "  'score': 0.04235129430890083,\n",
       "  'token': 22667}]"
      ]
     },
     "execution_count": 20,
     "metadata": {},
     "output_type": "execute_result"
    }
   ],
   "source": [
    "nlp_fill_test(f\"Mijn zusje wilt later {nlp_fill_test.tokenizer.mask_token} worden\")"
   ]
  },
  {
   "cell_type": "code",
   "execution_count": 30,
   "metadata": {},
   "outputs": [
    {
     "data": {
      "text/plain": [
       "[{'sequence': '[CLS] Mijn broertje wilt later vader worden [SEP]',\n",
       "  'score': 0.08645050972700119,\n",
       "  'token': 20692},\n",
       " {'sequence': '[CLS] Mijn broertje wilt later moeder worden [SEP]',\n",
       "  'score': 0.06112366542220116,\n",
       "  'token': 15726},\n",
       " {'sequence': '[CLS] Mijn broertje wilt later piloot worden [SEP]',\n",
       "  'score': 0.0567786879837513,\n",
       "  'token': 17442},\n",
       " {'sequence': '[CLS] Mijn broertje wilt later geboren worden [SEP]',\n",
       "  'score': 0.037887848913669586,\n",
       "  'token': 11894},\n",
       " {'sequence': '[CLS] Mijn broertje wilt later boer worden [SEP]',\n",
       "  'score': 0.03656839206814766,\n",
       "  'token': 9731}]"
      ]
     },
     "execution_count": 30,
     "metadata": {},
     "output_type": "execute_result"
    }
   ],
   "source": [
    "nlp_fill_test(f\"Mijn broertje wilt later {nlp_fill_test.tokenizer.mask_token} worden\")"
   ]
  },
  {
   "cell_type": "code",
   "execution_count": 27,
   "metadata": {},
   "outputs": [
    {
     "data": {
      "text/plain": [
       "[{'sequence': '[CLS] Mijn broer wilt later boer worden [SEP]',\n",
       "  'score': 0.08168181777000427,\n",
       "  'token': 9731},\n",
       " {'sequence': '[CLS] Mijn broer wilt later schilder worden [SEP]',\n",
       "  'score': 0.05784137547016144,\n",
       "  'token': 18693},\n",
       " {'sequence': '[CLS] Mijn broer wilt later piloot worden [SEP]',\n",
       "  'score': 0.05640704557299614,\n",
       "  'token': 17442},\n",
       " {'sequence': '[CLS] Mijn broer wilt later soldaat worden [SEP]',\n",
       "  'score': 0.04017899930477142,\n",
       "  'token': 19164},\n",
       " {'sequence': '[CLS] Mijn broer wilt later dokter worden [SEP]',\n",
       "  'score': 0.0326806865632534,\n",
       "  'token': 10816}]"
      ]
     },
     "execution_count": 27,
     "metadata": {},
     "output_type": "execute_result"
    }
   ],
   "source": [
    "nlp_fill_test(f\"Mijn broer wilt later {nlp_fill_test.tokenizer.mask_token} worden\")"
   ]
  },
  {
   "cell_type": "code",
   "execution_count": 28,
   "metadata": {},
   "outputs": [
    {
     "data": {
      "text/plain": [
       "[{'sequence': '[CLS] Mijn zus wilt later actrice worden [SEP]',\n",
       "  'score': 0.34025707840919495,\n",
       "  'token': 8167},\n",
       " {'sequence': '[CLS] Mijn zus wilt later moeder worden [SEP]',\n",
       "  'score': 0.08567561954259872,\n",
       "  'token': 15726},\n",
       " {'sequence': '[CLS] Mijn zus wilt later zangeres worden [SEP]',\n",
       "  'score': 0.07806561142206192,\n",
       "  'token': 22667},\n",
       " {'sequence': '[CLS] Mijn zus wilt later schrijfster worden [SEP]',\n",
       "  'score': 0.07438141107559204,\n",
       "  'token': 18778},\n",
       " {'sequence': '[CLS] Mijn zus wilt later verpleegster worden [SEP]',\n",
       "  'score': 0.0344172865152359,\n",
       "  'token': 21263}]"
      ]
     },
     "execution_count": 28,
     "metadata": {},
     "output_type": "execute_result"
    }
   ],
   "source": [
    "nlp_fill_test(f\"Mijn zus wilt later {nlp_fill_test.tokenizer.mask_token} worden\")"
   ]
  },
  {
   "cell_type": "code",
   "execution_count": null,
   "metadata": {},
   "outputs": [],
   "source": []
  }
 ],
 "metadata": {
  "kernelspec": {
   "display_name": "Python 3",
   "language": "python",
   "name": "python3"
  },
  "language_info": {
   "codemirror_mode": {
    "name": "ipython",
    "version": 3
   },
   "file_extension": ".py",
   "mimetype": "text/x-python",
   "name": "python",
   "nbconvert_exporter": "python",
   "pygments_lexer": "ipython3",
   "version": "3.7.4"
  }
 },
 "nbformat": 4,
 "nbformat_minor": 2
}
